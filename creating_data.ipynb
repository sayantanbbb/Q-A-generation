{
  "metadata": {
    "kernelspec": {
      "language": "python",
      "display_name": "Python 3",
      "name": "python3"
    },
    "language_info": {
      "name": "python",
      "version": "3.7.12",
      "mimetype": "text/x-python",
      "codemirror_mode": {
        "name": "ipython",
        "version": 3
      },
      "pygments_lexer": "ipython3",
      "nbconvert_exporter": "python",
      "file_extension": ".py"
    },
    "colab": {
      "name": "creating-data.ipynb",
      "provenance": []
    }
  },
  "nbformat_minor": 0,
  "nbformat": 4,
  "cells": [
    {
      "cell_type": "code",
      "source": [
        "!pip install datasets"
      ],
      "metadata": {
        "_uuid": "8f2839f25d086af736a60e9eeb907d3b93b6e0e5",
        "_cell_guid": "b1076dfc-b9ad-4769-8c92-a6c4dae69d19",
        "execution": {
          "iopub.status.busy": "2022-05-14T15:17:57.230949Z",
          "iopub.execute_input": "2022-05-14T15:17:57.231324Z",
          "iopub.status.idle": "2022-05-14T15:18:09.615275Z",
          "shell.execute_reply.started": "2022-05-14T15:17:57.231221Z",
          "shell.execute_reply": "2022-05-14T15:18:09.614267Z"
        },
        "trusted": true,
        "id": "15ED-m9wn03G",
        "outputId": "7ed485f0-f82a-462c-8c2f-1090241ef43a"
      },
      "execution_count": null,
      "outputs": [
        {
          "name": "stdout",
          "text": "Requirement already satisfied: datasets in /opt/conda/lib/python3.7/site-packages (2.1.0)\nRequirement already satisfied: packaging in /opt/conda/lib/python3.7/site-packages (from datasets) (21.3)\nRequirement already satisfied: huggingface-hub<1.0.0,>=0.1.0 in /opt/conda/lib/python3.7/site-packages (from datasets) (0.5.1)\nRequirement already satisfied: fsspec[http]>=2021.05.0 in /opt/conda/lib/python3.7/site-packages (from datasets) (2022.3.0)\nRequirement already satisfied: tqdm>=4.62.1 in /opt/conda/lib/python3.7/site-packages (from datasets) (4.63.0)\nRequirement already satisfied: importlib-metadata in /opt/conda/lib/python3.7/site-packages (from datasets) (4.11.3)\nRequirement already satisfied: requests>=2.19.0 in /opt/conda/lib/python3.7/site-packages (from datasets) (2.27.1)\nRequirement already satisfied: multiprocess in /opt/conda/lib/python3.7/site-packages (from datasets) (0.70.12.2)\nRequirement already satisfied: aiohttp in /opt/conda/lib/python3.7/site-packages (from datasets) (3.8.1)\nRequirement already satisfied: dill in /opt/conda/lib/python3.7/site-packages (from datasets) (0.3.4)\nRequirement already satisfied: numpy>=1.17 in /opt/conda/lib/python3.7/site-packages (from datasets) (1.21.6)\nRequirement already satisfied: responses<0.19 in /opt/conda/lib/python3.7/site-packages (from datasets) (0.18.0)\nRequirement already satisfied: pyarrow>=5.0.0 in /opt/conda/lib/python3.7/site-packages (from datasets) (7.0.0)\nRequirement already satisfied: xxhash in /opt/conda/lib/python3.7/site-packages (from datasets) (3.0.0)\nRequirement already satisfied: pandas in /opt/conda/lib/python3.7/site-packages (from datasets) (1.3.5)\nRequirement already satisfied: filelock in /opt/conda/lib/python3.7/site-packages (from huggingface-hub<1.0.0,>=0.1.0->datasets) (3.6.0)\nRequirement already satisfied: typing-extensions>=3.7.4.3 in /opt/conda/lib/python3.7/site-packages (from huggingface-hub<1.0.0,>=0.1.0->datasets) (4.2.0)\nRequirement already satisfied: pyyaml in /opt/conda/lib/python3.7/site-packages (from huggingface-hub<1.0.0,>=0.1.0->datasets) (6.0)\nRequirement already satisfied: pyparsing!=3.0.5,>=2.0.2 in /opt/conda/lib/python3.7/site-packages (from packaging->datasets) (3.0.7)\nRequirement already satisfied: urllib3<1.27,>=1.21.1 in /opt/conda/lib/python3.7/site-packages (from requests>=2.19.0->datasets) (1.26.8)\nRequirement already satisfied: certifi>=2017.4.17 in /opt/conda/lib/python3.7/site-packages (from requests>=2.19.0->datasets) (2021.10.8)\nRequirement already satisfied: charset-normalizer~=2.0.0 in /opt/conda/lib/python3.7/site-packages (from requests>=2.19.0->datasets) (2.0.12)\nRequirement already satisfied: idna<4,>=2.5 in /opt/conda/lib/python3.7/site-packages (from requests>=2.19.0->datasets) (3.3)\nRequirement already satisfied: aiosignal>=1.1.2 in /opt/conda/lib/python3.7/site-packages (from aiohttp->datasets) (1.2.0)\nRequirement already satisfied: frozenlist>=1.1.1 in /opt/conda/lib/python3.7/site-packages (from aiohttp->datasets) (1.3.0)\nRequirement already satisfied: multidict<7.0,>=4.5 in /opt/conda/lib/python3.7/site-packages (from aiohttp->datasets) (6.0.2)\nRequirement already satisfied: yarl<2.0,>=1.0 in /opt/conda/lib/python3.7/site-packages (from aiohttp->datasets) (1.7.2)\nRequirement already satisfied: attrs>=17.3.0 in /opt/conda/lib/python3.7/site-packages (from aiohttp->datasets) (21.4.0)\nRequirement already satisfied: async-timeout<5.0,>=4.0.0a3 in /opt/conda/lib/python3.7/site-packages (from aiohttp->datasets) (4.0.2)\nRequirement already satisfied: asynctest==0.13.0 in /opt/conda/lib/python3.7/site-packages (from aiohttp->datasets) (0.13.0)\nRequirement already satisfied: zipp>=0.5 in /opt/conda/lib/python3.7/site-packages (from importlib-metadata->datasets) (3.7.0)\nRequirement already satisfied: python-dateutil>=2.7.3 in /opt/conda/lib/python3.7/site-packages (from pandas->datasets) (2.8.2)\nRequirement already satisfied: pytz>=2017.3 in /opt/conda/lib/python3.7/site-packages (from pandas->datasets) (2021.3)\nRequirement already satisfied: six>=1.5 in /opt/conda/lib/python3.7/site-packages (from python-dateutil>=2.7.3->pandas->datasets) (1.16.0)\n\u001b[33mWARNING: Running pip as the 'root' user can result in broken permissions and conflicting behaviour with the system package manager. It is recommended to use a virtual environment instead: https://pip.pypa.io/warnings/venv\u001b[0m\u001b[33m\n\u001b[0m",
          "output_type": "stream"
        }
      ]
    },
    {
      "cell_type": "markdown",
      "source": [
        "# Preprocessing data from squad json"
      ],
      "metadata": {
        "id": "gmCm44iToGwm"
      }
    },
    {
      "cell_type": "code",
      "source": [
        "from datasets import load_dataset\n",
        "dataset_train = load_dataset('squad', split='train')\n",
        "dataset_valid = load_dataset('squad', split='validation')"
      ],
      "metadata": {
        "execution": {
          "iopub.status.busy": "2022-05-14T15:18:33.763818Z",
          "iopub.execute_input": "2022-05-14T15:18:33.764294Z",
          "iopub.status.idle": "2022-05-14T15:18:57.924974Z",
          "shell.execute_reply.started": "2022-05-14T15:18:33.764251Z",
          "shell.execute_reply": "2022-05-14T15:18:57.924060Z"
        },
        "trusted": true,
        "colab": {
          "referenced_widgets": [
            "8f5a3313d98f40cea3034bf33f3b2ba4",
            "1ed5b55d3e90482db32f256b8a3f4728",
            "3f7596383f094662a185a9758c832a11",
            "9ea589f74f824eebbb742f59d71e1ca0",
            "3634e8851bb24b8ba5f30e13a221e41f",
            "ca04b40583b442cc9d8da41a0ccf74a9",
            ""
          ]
        },
        "id": "WJxIUk0tn03R",
        "outputId": "b38b4c85-8fb3-42a1-8183-53ff39806bd0"
      },
      "execution_count": null,
      "outputs": [
        {
          "output_type": "display_data",
          "data": {
            "text/plain": "Downloading builder script:   0%|          | 0.00/1.97k [00:00<?, ?B/s]",
            "application/vnd.jupyter.widget-view+json": {
              "version_major": 2,
              "version_minor": 0,
              "model_id": "8f5a3313d98f40cea3034bf33f3b2ba4"
            }
          },
          "metadata": {}
        },
        {
          "output_type": "display_data",
          "data": {
            "text/plain": "Downloading metadata:   0%|          | 0.00/1.02k [00:00<?, ?B/s]",
            "application/vnd.jupyter.widget-view+json": {
              "version_major": 2,
              "version_minor": 0,
              "model_id": "1ed5b55d3e90482db32f256b8a3f4728"
            }
          },
          "metadata": {}
        },
        {
          "name": "stdout",
          "text": "Downloading and preparing dataset squad/plain_text (download: 33.51 MiB, generated: 85.63 MiB, post-processed: Unknown size, total: 119.14 MiB) to /root/.cache/huggingface/datasets/squad/plain_text/1.0.0/d6ec3ceb99ca480ce37cdd35555d6cb2511d223b9150cce08a837ef62ffea453...\n",
          "output_type": "stream"
        },
        {
          "output_type": "display_data",
          "data": {
            "text/plain": "Downloading data files:   0%|          | 0/2 [00:00<?, ?it/s]",
            "application/vnd.jupyter.widget-view+json": {
              "version_major": 2,
              "version_minor": 0,
              "model_id": "3f7596383f094662a185a9758c832a11"
            }
          },
          "metadata": {}
        },
        {
          "output_type": "display_data",
          "data": {
            "text/plain": "Downloading data:   0%|          | 0.00/8.12M [00:00<?, ?B/s]",
            "application/vnd.jupyter.widget-view+json": {
              "version_major": 2,
              "version_minor": 0,
              "model_id": "9ea589f74f824eebbb742f59d71e1ca0"
            }
          },
          "metadata": {}
        },
        {
          "output_type": "display_data",
          "data": {
            "text/plain": "Downloading data:   0%|          | 0.00/1.05M [00:00<?, ?B/s]",
            "application/vnd.jupyter.widget-view+json": {
              "version_major": 2,
              "version_minor": 0,
              "model_id": "3634e8851bb24b8ba5f30e13a221e41f"
            }
          },
          "metadata": {}
        },
        {
          "output_type": "display_data",
          "data": {
            "text/plain": "Extracting data files:   0%|          | 0/2 [00:00<?, ?it/s]",
            "application/vnd.jupyter.widget-view+json": {
              "version_major": 2,
              "version_minor": 0,
              "model_id": "ca04b40583b442cc9d8da41a0ccf74a9"
            }
          },
          "metadata": {}
        },
        {
          "output_type": "display_data",
          "data": {
            "text/plain": "Generating train split:   0%|          | 0/87599 [00:00<?, ? examples/s]",
            "application/vnd.jupyter.widget-view+json": {
              "version_major": 2,
              "version_minor": 0,
              "model_id": ""
            }
          },
          "metadata": {}
        },
        {
          "output_type": "display_data",
          "data": {
            "text/plain": "Generating validation split:   0%|          | 0/10570 [00:00<?, ? examples/s]",
            "application/vnd.jupyter.widget-view+json": {
              "version_major": 2,
              "version_minor": 0,
              "model_id": ""
            }
          },
          "metadata": {}
        },
        {
          "name": "stdout",
          "text": "Dataset squad downloaded and prepared to /root/.cache/huggingface/datasets/squad/plain_text/1.0.0/d6ec3ceb99ca480ce37cdd35555d6cb2511d223b9150cce08a837ef62ffea453. Subsequent calls will reuse this data.\n",
          "output_type": "stream"
        }
      ]
    },
    {
      "cell_type": "code",
      "source": [
        "dataset_train"
      ],
      "metadata": {
        "execution": {
          "iopub.status.busy": "2022-05-14T15:18:57.926734Z",
          "iopub.execute_input": "2022-05-14T15:18:57.926974Z",
          "iopub.status.idle": "2022-05-14T15:18:57.933925Z",
          "shell.execute_reply.started": "2022-05-14T15:18:57.926944Z",
          "shell.execute_reply": "2022-05-14T15:18:57.933134Z"
        },
        "trusted": true,
        "id": "lgQHMFuCn03S",
        "outputId": "5ae09966-894e-4cac-da68-5538e51575e9"
      },
      "execution_count": null,
      "outputs": [
        {
          "execution_count": 3,
          "output_type": "execute_result",
          "data": {
            "text/plain": "Dataset({\n    features: ['id', 'title', 'context', 'question', 'answers'],\n    num_rows: 87599\n})"
          },
          "metadata": {}
        }
      ]
    },
    {
      "cell_type": "code",
      "source": [
        "dataset_train[\"context\"][0]"
      ],
      "metadata": {
        "execution": {
          "iopub.status.busy": "2022-05-14T15:18:57.935282Z",
          "iopub.execute_input": "2022-05-14T15:18:57.935613Z",
          "iopub.status.idle": "2022-05-14T15:18:58.181407Z",
          "shell.execute_reply.started": "2022-05-14T15:18:57.935584Z",
          "shell.execute_reply": "2022-05-14T15:18:58.180710Z"
        },
        "trusted": true,
        "id": "pdwJW6fpn03U",
        "outputId": "9d110bd4-e9c7-4bb4-d230-fee1b245f009"
      },
      "execution_count": null,
      "outputs": [
        {
          "execution_count": 4,
          "output_type": "execute_result",
          "data": {
            "text/plain": "'Architecturally, the school has a Catholic character. Atop the Main Building\\'s gold dome is a golden statue of the Virgin Mary. Immediately in front of the Main Building and facing it, is a copper statue of Christ with arms upraised with the legend \"Venite Ad Me Omnes\". Next to the Main Building is the Basilica of the Sacred Heart. Immediately behind the basilica is the Grotto, a Marian place of prayer and reflection. It is a replica of the grotto at Lourdes, France where the Virgin Mary reputedly appeared to Saint Bernadette Soubirous in 1858. At the end of the main drive (and in a direct line that connects through 3 statues and the Gold Dome), is a simple, modern stone statue of Mary.'"
          },
          "metadata": {}
        }
      ]
    },
    {
      "cell_type": "code",
      "source": [
        "dataset_train[\"question\"][0]"
      ],
      "metadata": {
        "execution": {
          "iopub.status.busy": "2022-05-14T15:18:58.182820Z",
          "iopub.execute_input": "2022-05-14T15:18:58.183183Z",
          "iopub.status.idle": "2022-05-14T15:18:58.329108Z",
          "shell.execute_reply.started": "2022-05-14T15:18:58.183151Z",
          "shell.execute_reply": "2022-05-14T15:18:58.328106Z"
        },
        "trusted": true,
        "id": "S_QmCnJ_n03U",
        "outputId": "c6671b09-14dc-441c-ed29-96da59fbc611"
      },
      "execution_count": null,
      "outputs": [
        {
          "execution_count": 5,
          "output_type": "execute_result",
          "data": {
            "text/plain": "'To whom did the Virgin Mary allegedly appear in 1858 in Lourdes France?'"
          },
          "metadata": {}
        }
      ]
    },
    {
      "cell_type": "code",
      "source": [
        "dataset_valid"
      ],
      "metadata": {
        "execution": {
          "iopub.status.busy": "2022-05-14T15:19:10.729346Z",
          "iopub.execute_input": "2022-05-14T15:19:10.729653Z",
          "iopub.status.idle": "2022-05-14T15:19:10.734824Z",
          "shell.execute_reply.started": "2022-05-14T15:19:10.729618Z",
          "shell.execute_reply": "2022-05-14T15:19:10.734184Z"
        },
        "trusted": true,
        "id": "7ogGqXl4n03V",
        "outputId": "0735dcab-8c42-49dd-d34d-cbeffafcd920"
      },
      "execution_count": null,
      "outputs": [
        {
          "execution_count": 6,
          "output_type": "execute_result",
          "data": {
            "text/plain": "Dataset({\n    features: ['id', 'title', 'context', 'question', 'answers'],\n    num_rows: 10570\n})"
          },
          "metadata": {}
        }
      ]
    },
    {
      "cell_type": "code",
      "source": [
        "import pandas as pd\n",
        "training_dataset=pd.DataFrame(\n",
        "    {\n",
        "\n",
        "    \"source_text\":dataset_train[\"context\"],\n",
        "    \"target_text\":dataset_train[\"question\"]\n",
        "})\n",
        "valid_dataset=pd.DataFrame(\n",
        "    {\n",
        "\n",
        "    \"source_text\":dataset_valid[\"context\"],\n",
        "    \"target_text\":dataset_valid[\"question\"]\n",
        "}\n",
        ") \n",
        "training_dataset.head()"
      ],
      "metadata": {
        "execution": {
          "iopub.status.busy": "2022-05-14T15:19:51.165543Z",
          "iopub.execute_input": "2022-05-14T15:19:51.166025Z",
          "iopub.status.idle": "2022-05-14T15:19:51.586460Z",
          "shell.execute_reply.started": "2022-05-14T15:19:51.165991Z",
          "shell.execute_reply": "2022-05-14T15:19:51.585431Z"
        },
        "trusted": true,
        "id": "ETRy9myKn03W",
        "outputId": "ea148239-d1de-4c33-a708-355b589b22cc"
      },
      "execution_count": null,
      "outputs": [
        {
          "execution_count": 7,
          "output_type": "execute_result",
          "data": {
            "text/plain": "                                         source_text  \\\n0  Architecturally, the school has a Catholic cha...   \n1  Architecturally, the school has a Catholic cha...   \n2  Architecturally, the school has a Catholic cha...   \n3  Architecturally, the school has a Catholic cha...   \n4  Architecturally, the school has a Catholic cha...   \n\n                                         target_text  \n0  To whom did the Virgin Mary allegedly appear i...  \n1  What is in front of the Notre Dame Main Building?  \n2  The Basilica of the Sacred heart at Notre Dame...  \n3                  What is the Grotto at Notre Dame?  \n4  What sits on top of the Main Building at Notre...  ",
            "text/html": "<div>\n<style scoped>\n    .dataframe tbody tr th:only-of-type {\n        vertical-align: middle;\n    }\n\n    .dataframe tbody tr th {\n        vertical-align: top;\n    }\n\n    .dataframe thead th {\n        text-align: right;\n    }\n</style>\n<table border=\"1\" class=\"dataframe\">\n  <thead>\n    <tr style=\"text-align: right;\">\n      <th></th>\n      <th>source_text</th>\n      <th>target_text</th>\n    </tr>\n  </thead>\n  <tbody>\n    <tr>\n      <th>0</th>\n      <td>Architecturally, the school has a Catholic cha...</td>\n      <td>To whom did the Virgin Mary allegedly appear i...</td>\n    </tr>\n    <tr>\n      <th>1</th>\n      <td>Architecturally, the school has a Catholic cha...</td>\n      <td>What is in front of the Notre Dame Main Building?</td>\n    </tr>\n    <tr>\n      <th>2</th>\n      <td>Architecturally, the school has a Catholic cha...</td>\n      <td>The Basilica of the Sacred heart at Notre Dame...</td>\n    </tr>\n    <tr>\n      <th>3</th>\n      <td>Architecturally, the school has a Catholic cha...</td>\n      <td>What is the Grotto at Notre Dame?</td>\n    </tr>\n    <tr>\n      <th>4</th>\n      <td>Architecturally, the school has a Catholic cha...</td>\n      <td>What sits on top of the Main Building at Notre...</td>\n    </tr>\n  </tbody>\n</table>\n</div>"
          },
          "metadata": {}
        }
      ]
    },
    {
      "cell_type": "code",
      "source": [
        "valid_dataset.head()"
      ],
      "metadata": {
        "execution": {
          "iopub.status.busy": "2022-05-14T15:20:00.705303Z",
          "iopub.execute_input": "2022-05-14T15:20:00.705638Z",
          "iopub.status.idle": "2022-05-14T15:20:00.715755Z",
          "shell.execute_reply.started": "2022-05-14T15:20:00.705602Z",
          "shell.execute_reply": "2022-05-14T15:20:00.714800Z"
        },
        "trusted": true,
        "id": "IvLBdhLvn03Y",
        "outputId": "9f0b5686-73be-4278-bcda-aec9ff19ec2a"
      },
      "execution_count": null,
      "outputs": [
        {
          "execution_count": 8,
          "output_type": "execute_result",
          "data": {
            "text/plain": "                                         source_text  \\\n0  Super Bowl 50 was an American football game to...   \n1  Super Bowl 50 was an American football game to...   \n2  Super Bowl 50 was an American football game to...   \n3  Super Bowl 50 was an American football game to...   \n4  Super Bowl 50 was an American football game to...   \n\n                                         target_text  \n0  Which NFL team represented the AFC at Super Bo...  \n1  Which NFL team represented the NFC at Super Bo...  \n2                Where did Super Bowl 50 take place?  \n3                  Which NFL team won Super Bowl 50?  \n4  What color was used to emphasize the 50th anni...  ",
            "text/html": "<div>\n<style scoped>\n    .dataframe tbody tr th:only-of-type {\n        vertical-align: middle;\n    }\n\n    .dataframe tbody tr th {\n        vertical-align: top;\n    }\n\n    .dataframe thead th {\n        text-align: right;\n    }\n</style>\n<table border=\"1\" class=\"dataframe\">\n  <thead>\n    <tr style=\"text-align: right;\">\n      <th></th>\n      <th>source_text</th>\n      <th>target_text</th>\n    </tr>\n  </thead>\n  <tbody>\n    <tr>\n      <th>0</th>\n      <td>Super Bowl 50 was an American football game to...</td>\n      <td>Which NFL team represented the AFC at Super Bo...</td>\n    </tr>\n    <tr>\n      <th>1</th>\n      <td>Super Bowl 50 was an American football game to...</td>\n      <td>Which NFL team represented the NFC at Super Bo...</td>\n    </tr>\n    <tr>\n      <th>2</th>\n      <td>Super Bowl 50 was an American football game to...</td>\n      <td>Where did Super Bowl 50 take place?</td>\n    </tr>\n    <tr>\n      <th>3</th>\n      <td>Super Bowl 50 was an American football game to...</td>\n      <td>Which NFL team won Super Bowl 50?</td>\n    </tr>\n    <tr>\n      <th>4</th>\n      <td>Super Bowl 50 was an American football game to...</td>\n      <td>What color was used to emphasize the 50th anni...</td>\n    </tr>\n  </tbody>\n</table>\n</div>"
          },
          "metadata": {}
        }
      ]
    },
    {
      "cell_type": "code",
      "source": [
        "training_dataset.to_csv(\"train.csv\",index=False)\n",
        "valid_dataset.to_csv(\"eval.csv\",index=False)"
      ],
      "metadata": {
        "execution": {
          "iopub.status.busy": "2022-05-14T15:20:28.897710Z",
          "iopub.execute_input": "2022-05-14T15:20:28.898553Z",
          "iopub.status.idle": "2022-05-14T15:20:32.407054Z",
          "shell.execute_reply.started": "2022-05-14T15:20:28.898500Z",
          "shell.execute_reply": "2022-05-14T15:20:32.406073Z"
        },
        "trusted": true,
        "id": "jNehGHCRn03Z"
      },
      "execution_count": null,
      "outputs": []
    },
    {
      "cell_type": "markdown",
      "source": [
        "# The end!"
      ],
      "metadata": {
        "id": "KN7qnm-soNFd"
      }
    },
    {
      "cell_type": "code",
      "source": [
        ""
      ],
      "metadata": {
        "id": "9OW_QpuOoQdk"
      },
      "execution_count": null,
      "outputs": []
    }
  ]
}