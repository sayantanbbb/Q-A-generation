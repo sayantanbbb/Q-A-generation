{
  "cells": [
    {
      "cell_type": "code",
      "execution_count": null,
      "id": "d62366ff",
      "metadata": {
        "execution": {
          "iopub.execute_input": "2022-05-22T05:45:02.604678Z",
          "iopub.status.busy": "2022-05-22T05:45:02.603961Z",
          "iopub.status.idle": "2022-05-22T05:45:31.514639Z",
          "shell.execute_reply": "2022-05-22T05:45:31.513710Z"
        },
        "id": "d62366ff",
        "outputId": "9b5c93dc-aafd-4600-bdfa-8e9a4a8b88d0",
        "papermill": {
          "duration": 28.928078,
          "end_time": "2022-05-22T05:45:31.517833",
          "exception": false,
          "start_time": "2022-05-22T05:45:02.589755",
          "status": "completed"
        },
        "tags": []
      },
      "outputs": [
        {
          "name": "stdout",
          "output_type": "stream",
          "text": [
            "Collecting simplet5\r\n",
            "  Downloading simplet5-0.1.4.tar.gz (7.3 kB)\r\n",
            "  Preparing metadata (setup.py) ... \u001b[?25l-\b \bdone\r\n",
            "\u001b[?25hRequirement already satisfied: numpy in /opt/conda/lib/python3.7/site-packages (from simplet5) (1.21.6)\r\n",
            "Requirement already satisfied: pandas in /opt/conda/lib/python3.7/site-packages (from simplet5) (1.3.5)\r\n",
            "Requirement already satisfied: sentencepiece in /opt/conda/lib/python3.7/site-packages (from simplet5) (0.1.96)\r\n",
            "Requirement already satisfied: torch!=1.8.0,>=1.7.0 in /opt/conda/lib/python3.7/site-packages (from simplet5) (1.11.0)\r\n",
            "Collecting transformers==4.16.2\r\n",
            "  Downloading transformers-4.16.2-py3-none-any.whl (3.5 MB)\r\n",
            "\u001b[2K     \u001b[90m━━━━━━━━━━━━━━━━━━━━━━━━━━━━━━━━━━━━━━━━\u001b[0m \u001b[32m3.5/3.5 MB\u001b[0m \u001b[31m2.8 MB/s\u001b[0m eta \u001b[36m0:00:00\u001b[0m\r\n",
            "\u001b[?25hCollecting pytorch-lightning==1.5.10\r\n",
            "  Downloading pytorch_lightning-1.5.10-py3-none-any.whl (527 kB)\r\n",
            "\u001b[2K     \u001b[90m━━━━━━━━━━━━━━━━━━━━━━━━━━━━━━━━━━━━━━\u001b[0m \u001b[32m527.7/527.7 KB\u001b[0m \u001b[31m25.1 MB/s\u001b[0m eta \u001b[36m0:00:00\u001b[0m\r\n",
            "\u001b[?25hRequirement already satisfied: torchmetrics>=0.4.1 in /opt/conda/lib/python3.7/site-packages (from pytorch-lightning==1.5.10->simplet5) (0.6.2)\r\n",
            "Requirement already satisfied: tqdm>=4.41.0 in /opt/conda/lib/python3.7/site-packages (from pytorch-lightning==1.5.10->simplet5) (4.63.0)\r\n",
            "Requirement already satisfied: future>=0.17.1 in /opt/conda/lib/python3.7/site-packages (from pytorch-lightning==1.5.10->simplet5) (0.18.2)\r\n",
            "Collecting pyDeprecate==0.3.1\r\n",
            "  Downloading pyDeprecate-0.3.1-py3-none-any.whl (10 kB)\r\n",
            "Requirement already satisfied: tensorboard>=2.2.0 in /opt/conda/lib/python3.7/site-packages (from pytorch-lightning==1.5.10->simplet5) (2.6.0)\r\n",
            "Requirement already satisfied: packaging>=17.0 in /opt/conda/lib/python3.7/site-packages (from pytorch-lightning==1.5.10->simplet5) (21.3)\r\n",
            "Requirement already satisfied: PyYAML>=5.1 in /opt/conda/lib/python3.7/site-packages (from pytorch-lightning==1.5.10->simplet5) (6.0)\r\n",
            "Collecting setuptools==59.5.0\r\n",
            "  Downloading setuptools-59.5.0-py3-none-any.whl (952 kB)\r\n",
            "\u001b[2K     \u001b[90m━━━━━━━━━━━━━━━━━━━━━━━━━━━━━━━━━━━━━━\u001b[0m \u001b[32m952.4/952.4 KB\u001b[0m \u001b[31m26.4 MB/s\u001b[0m eta \u001b[36m0:00:00\u001b[0m\r\n",
            "\u001b[?25hRequirement already satisfied: fsspec[http]!=2021.06.0,>=2021.05.0 in /opt/conda/lib/python3.7/site-packages (from pytorch-lightning==1.5.10->simplet5) (2022.3.0)\r\n",
            "Requirement already satisfied: typing-extensions in /opt/conda/lib/python3.7/site-packages (from pytorch-lightning==1.5.10->simplet5) (4.2.0)\r\n",
            "Requirement already satisfied: regex!=2019.12.17 in /opt/conda/lib/python3.7/site-packages (from transformers==4.16.2->simplet5) (2021.11.10)\r\n",
            "Requirement already satisfied: requests in /opt/conda/lib/python3.7/site-packages (from transformers==4.16.2->simplet5) (2.27.1)\r\n",
            "Requirement already satisfied: importlib-metadata in /opt/conda/lib/python3.7/site-packages (from transformers==4.16.2->simplet5) (4.11.3)\r\n",
            "Requirement already satisfied: sacremoses in /opt/conda/lib/python3.7/site-packages (from transformers==4.16.2->simplet5) (0.0.53)\r\n",
            "Requirement already satisfied: filelock in /opt/conda/lib/python3.7/site-packages (from transformers==4.16.2->simplet5) (3.6.0)\r\n",
            "Requirement already satisfied: tokenizers!=0.11.3,>=0.10.1 in /opt/conda/lib/python3.7/site-packages (from transformers==4.16.2->simplet5) (0.12.1)\r\n",
            "Requirement already satisfied: huggingface-hub<1.0,>=0.1.0 in /opt/conda/lib/python3.7/site-packages (from transformers==4.16.2->simplet5) (0.5.1)\r\n",
            "Requirement already satisfied: python-dateutil>=2.7.3 in /opt/conda/lib/python3.7/site-packages (from pandas->simplet5) (2.8.2)\r\n",
            "Requirement already satisfied: pytz>=2017.3 in /opt/conda/lib/python3.7/site-packages (from pandas->simplet5) (2021.3)\r\n",
            "Requirement already satisfied: aiohttp in /opt/conda/lib/python3.7/site-packages (from fsspec[http]!=2021.06.0,>=2021.05.0->pytorch-lightning==1.5.10->simplet5) (3.8.1)\r\n",
            "Requirement already satisfied: pyparsing!=3.0.5,>=2.0.2 in /opt/conda/lib/python3.7/site-packages (from packaging>=17.0->pytorch-lightning==1.5.10->simplet5) (3.0.7)\r\n",
            "Requirement already satisfied: six>=1.5 in /opt/conda/lib/python3.7/site-packages (from python-dateutil>=2.7.3->pandas->simplet5) (1.16.0)\r\n",
            "Requirement already satisfied: protobuf>=3.6.0 in /opt/conda/lib/python3.7/site-packages (from tensorboard>=2.2.0->pytorch-lightning==1.5.10->simplet5) (3.19.4)\r\n",
            "Requirement already satisfied: grpcio>=1.24.3 in /opt/conda/lib/python3.7/site-packages (from tensorboard>=2.2.0->pytorch-lightning==1.5.10->simplet5) (1.43.0)\r\n",
            "Requirement already satisfied: tensorboard-plugin-wit>=1.6.0 in /opt/conda/lib/python3.7/site-packages (from tensorboard>=2.2.0->pytorch-lightning==1.5.10->simplet5) (1.8.1)\r\n",
            "Requirement already satisfied: google-auth<2,>=1.6.3 in /opt/conda/lib/python3.7/site-packages (from tensorboard>=2.2.0->pytorch-lightning==1.5.10->simplet5) (1.35.0)\r\n",
            "Requirement already satisfied: wheel>=0.26 in /opt/conda/lib/python3.7/site-packages (from tensorboard>=2.2.0->pytorch-lightning==1.5.10->simplet5) (0.37.1)\r\n",
            "Requirement already satisfied: werkzeug>=0.11.15 in /opt/conda/lib/python3.7/site-packages (from tensorboard>=2.2.0->pytorch-lightning==1.5.10->simplet5) (2.0.3)\r\n",
            "Requirement already satisfied: markdown>=2.6.8 in /opt/conda/lib/python3.7/site-packages (from tensorboard>=2.2.0->pytorch-lightning==1.5.10->simplet5) (3.3.6)\r\n",
            "Requirement already satisfied: tensorboard-data-server<0.7.0,>=0.6.0 in /opt/conda/lib/python3.7/site-packages (from tensorboard>=2.2.0->pytorch-lightning==1.5.10->simplet5) (0.6.1)\r\n",
            "Requirement already satisfied: google-auth-oauthlib<0.5,>=0.4.1 in /opt/conda/lib/python3.7/site-packages (from tensorboard>=2.2.0->pytorch-lightning==1.5.10->simplet5) (0.4.6)\r\n",
            "Requirement already satisfied: absl-py>=0.4 in /opt/conda/lib/python3.7/site-packages (from tensorboard>=2.2.0->pytorch-lightning==1.5.10->simplet5) (1.0.0)\r\n",
            "Requirement already satisfied: charset-normalizer~=2.0.0 in /opt/conda/lib/python3.7/site-packages (from requests->transformers==4.16.2->simplet5) (2.0.12)\r\n",
            "Requirement already satisfied: certifi>=2017.4.17 in /opt/conda/lib/python3.7/site-packages (from requests->transformers==4.16.2->simplet5) (2021.10.8)\r\n",
            "Requirement already satisfied: urllib3<1.27,>=1.21.1 in /opt/conda/lib/python3.7/site-packages (from requests->transformers==4.16.2->simplet5) (1.26.8)\r\n",
            "Requirement already satisfied: idna<4,>=2.5 in /opt/conda/lib/python3.7/site-packages (from requests->transformers==4.16.2->simplet5) (3.3)\r\n",
            "Requirement already satisfied: zipp>=0.5 in /opt/conda/lib/python3.7/site-packages (from importlib-metadata->transformers==4.16.2->simplet5) (3.7.0)\r\n",
            "Requirement already satisfied: click in /opt/conda/lib/python3.7/site-packages (from sacremoses->transformers==4.16.2->simplet5) (8.0.4)\r\n",
            "Requirement already satisfied: joblib in /opt/conda/lib/python3.7/site-packages (from sacremoses->transformers==4.16.2->simplet5) (1.0.1)\r\n",
            "Requirement already satisfied: cachetools<5.0,>=2.0.0 in /opt/conda/lib/python3.7/site-packages (from google-auth<2,>=1.6.3->tensorboard>=2.2.0->pytorch-lightning==1.5.10->simplet5) (4.2.4)\r\n",
            "Requirement already satisfied: pyasn1-modules>=0.2.1 in /opt/conda/lib/python3.7/site-packages (from google-auth<2,>=1.6.3->tensorboard>=2.2.0->pytorch-lightning==1.5.10->simplet5) (0.2.7)\r\n",
            "Requirement already satisfied: rsa<5,>=3.1.4 in /opt/conda/lib/python3.7/site-packages (from google-auth<2,>=1.6.3->tensorboard>=2.2.0->pytorch-lightning==1.5.10->simplet5) (4.8)\r\n",
            "Requirement already satisfied: requests-oauthlib>=0.7.0 in /opt/conda/lib/python3.7/site-packages (from google-auth-oauthlib<0.5,>=0.4.1->tensorboard>=2.2.0->pytorch-lightning==1.5.10->simplet5) (1.3.1)\r\n",
            "Requirement already satisfied: frozenlist>=1.1.1 in /opt/conda/lib/python3.7/site-packages (from aiohttp->fsspec[http]!=2021.06.0,>=2021.05.0->pytorch-lightning==1.5.10->simplet5) (1.3.0)\r\n",
            "Requirement already satisfied: async-timeout<5.0,>=4.0.0a3 in /opt/conda/lib/python3.7/site-packages (from aiohttp->fsspec[http]!=2021.06.0,>=2021.05.0->pytorch-lightning==1.5.10->simplet5) (4.0.2)\r\n",
            "Requirement already satisfied: multidict<7.0,>=4.5 in /opt/conda/lib/python3.7/site-packages (from aiohttp->fsspec[http]!=2021.06.0,>=2021.05.0->pytorch-lightning==1.5.10->simplet5) (6.0.2)\r\n",
            "Requirement already satisfied: attrs>=17.3.0 in /opt/conda/lib/python3.7/site-packages (from aiohttp->fsspec[http]!=2021.06.0,>=2021.05.0->pytorch-lightning==1.5.10->simplet5) (21.4.0)\r\n",
            "Requirement already satisfied: yarl<2.0,>=1.0 in /opt/conda/lib/python3.7/site-packages (from aiohttp->fsspec[http]!=2021.06.0,>=2021.05.0->pytorch-lightning==1.5.10->simplet5) (1.7.2)\r\n",
            "Requirement already satisfied: asynctest==0.13.0 in /opt/conda/lib/python3.7/site-packages (from aiohttp->fsspec[http]!=2021.06.0,>=2021.05.0->pytorch-lightning==1.5.10->simplet5) (0.13.0)\r\n",
            "Requirement already satisfied: aiosignal>=1.1.2 in /opt/conda/lib/python3.7/site-packages (from aiohttp->fsspec[http]!=2021.06.0,>=2021.05.0->pytorch-lightning==1.5.10->simplet5) (1.2.0)\r\n",
            "Requirement already satisfied: pyasn1<0.5.0,>=0.4.6 in /opt/conda/lib/python3.7/site-packages (from pyasn1-modules>=0.2.1->google-auth<2,>=1.6.3->tensorboard>=2.2.0->pytorch-lightning==1.5.10->simplet5) (0.4.8)\r\n",
            "Requirement already satisfied: oauthlib>=3.0.0 in /opt/conda/lib/python3.7/site-packages (from requests-oauthlib>=0.7.0->google-auth-oauthlib<0.5,>=0.4.1->tensorboard>=2.2.0->pytorch-lightning==1.5.10->simplet5) (3.2.0)\r\n",
            "Building wheels for collected packages: simplet5\r\n",
            "  Building wheel for simplet5 (setup.py) ... \u001b[?25l-\b \b\\\b \bdone\r\n",
            "\u001b[?25h  Created wheel for simplet5: filename=simplet5-0.1.4-py3-none-any.whl size=6873 sha256=d4de4146d0dabed1c234a5e9f0b70fb85b86a93ece9495c1301809fb0e8d45a6\r\n",
            "  Stored in directory: /root/.cache/pip/wheels/30/1b/96/47ad5fda68def6635961fd0ca312fc0ce3670936ae09d97c43\r\n",
            "Successfully built simplet5\r\n",
            "Installing collected packages: setuptools, pyDeprecate, transformers, pytorch-lightning, simplet5\r\n",
            "  Attempting uninstall: setuptools\r\n",
            "    Found existing installation: setuptools 59.8.0\r\n",
            "    Uninstalling setuptools-59.8.0:\r\n",
            "      Successfully uninstalled setuptools-59.8.0\r\n",
            "  Attempting uninstall: pyDeprecate\r\n",
            "    Found existing installation: pyDeprecate 0.3.2\r\n",
            "    Uninstalling pyDeprecate-0.3.2:\r\n",
            "      Successfully uninstalled pyDeprecate-0.3.2\r\n",
            "  Attempting uninstall: transformers\r\n",
            "    Found existing installation: transformers 4.18.0\r\n",
            "    Uninstalling transformers-4.18.0:\r\n",
            "      Successfully uninstalled transformers-4.18.0\r\n",
            "  Attempting uninstall: pytorch-lightning\r\n",
            "    Found existing installation: pytorch-lightning 1.6.3\r\n",
            "    Uninstalling pytorch-lightning-1.6.3:\r\n",
            "      Successfully uninstalled pytorch-lightning-1.6.3\r\n",
            "\u001b[31mERROR: pip's dependency resolver does not currently take into account all the packages that are installed. This behaviour is the source of the following dependency conflicts.\r\n",
            "dask-cudf 21.10.1 requires cupy-cuda114, which is not installed.\r\n",
            "beatrix-jupyterlab 3.1.7 requires google-cloud-bigquery-storage, which is not installed.\r\n",
            "thinc 8.0.15 requires typing-extensions<4.0.0.0,>=3.7.4.1; python_version < \"3.8\", but you have typing-extensions 4.2.0 which is incompatible.\r\n",
            "spacy 3.2.4 requires typing-extensions<4.0.0.0,>=3.7.4; python_version < \"3.8\", but you have typing-extensions 4.2.0 which is incompatible.\r\n",
            "gcsfs 2022.2.0 requires fsspec==2022.02.0, but you have fsspec 2022.3.0 which is incompatible.\r\n",
            "dask-cudf 21.10.1 requires dask==2021.09.1, but you have dask 2022.2.0 which is incompatible.\r\n",
            "dask-cudf 21.10.1 requires distributed==2021.09.1, but you have distributed 2022.2.0 which is incompatible.\u001b[0m\u001b[31m\r\n",
            "\u001b[0mSuccessfully installed pyDeprecate-0.3.1 pytorch-lightning-1.5.10 setuptools-59.5.0 simplet5-0.1.4 transformers-4.16.2\r\n",
            "\u001b[33mWARNING: Running pip as the 'root' user can result in broken permissions and conflicting behaviour with the system package manager. It is recommended to use a virtual environment instead: https://pip.pypa.io/warnings/venv\u001b[0m\u001b[33m\r\n",
            "\u001b[0m"
          ]
        }
      ],
      "source": [
        "!pip install simplet5 \n"
      ]
    },
    {
      "cell_type": "markdown",
      "source": [
        "# Import"
      ],
      "metadata": {
        "id": "6lS9KD31nIAq"
      },
      "id": "6lS9KD31nIAq"
    },
    {
      "cell_type": "code",
      "execution_count": null,
      "id": "2172d5a6",
      "metadata": {
        "execution": {
          "iopub.execute_input": "2022-05-22T05:45:31.619894Z",
          "iopub.status.busy": "2022-05-22T05:45:31.619568Z",
          "iopub.status.idle": "2022-05-22T05:45:31.623956Z",
          "shell.execute_reply": "2022-05-22T05:45:31.623235Z"
        },
        "id": "2172d5a6",
        "papermill": {
          "duration": 0.058255,
          "end_time": "2022-05-22T05:45:31.627827",
          "exception": false,
          "start_time": "2022-05-22T05:45:31.569572",
          "status": "completed"
        },
        "tags": []
      },
      "outputs": [],
      "source": [
        "import pandas as pd"
      ]
    },
    {
      "cell_type": "code",
      "execution_count": null,
      "id": "f74927c1",
      "metadata": {
        "execution": {
          "iopub.execute_input": "2022-05-22T05:45:31.744965Z",
          "iopub.status.busy": "2022-05-22T05:45:31.744713Z",
          "iopub.status.idle": "2022-05-22T05:47:18.105408Z",
          "shell.execute_reply": "2022-05-22T05:47:18.104602Z"
        },
        "id": "f74927c1",
        "outputId": "34a56ca6-3e5d-4b44-8074-17b2d33d58c1",
        "papermill": {
          "duration": 106.425999,
          "end_time": "2022-05-22T05:47:18.107577",
          "exception": false,
          "start_time": "2022-05-22T05:45:31.681578",
          "status": "completed"
        },
        "tags": [],
        "colab": {
          "referenced_widgets": [
            "5b59a100a65e41268d5cd0f4676b393d",
            "8e1a7895d6c043c592b45ac1732a5678",
            "768059e9e66e400cb0d00c599688c861",
            "40d4fa50bbbc4ec6a7dc67b91bd0ca55"
          ]
        }
      },
      "outputs": [
        {
          "data": {
            "application/vnd.jupyter.widget-view+json": {
              "model_id": "5b59a100a65e41268d5cd0f4676b393d",
              "version_major": 2,
              "version_minor": 0
            },
            "text/plain": [
              "Downloading:   0%|          | 0.00/773k [00:00<?, ?B/s]"
            ]
          },
          "metadata": {},
          "output_type": "display_data"
        },
        {
          "data": {
            "application/vnd.jupyter.widget-view+json": {
              "model_id": "8e1a7895d6c043c592b45ac1732a5678",
              "version_major": 2,
              "version_minor": 0
            },
            "text/plain": [
              "Downloading:   0%|          | 0.00/1.32M [00:00<?, ?B/s]"
            ]
          },
          "metadata": {},
          "output_type": "display_data"
        },
        {
          "data": {
            "application/vnd.jupyter.widget-view+json": {
              "model_id": "768059e9e66e400cb0d00c599688c861",
              "version_major": 2,
              "version_minor": 0
            },
            "text/plain": [
              "Downloading:   0%|          | 0.00/1.17k [00:00<?, ?B/s]"
            ]
          },
          "metadata": {},
          "output_type": "display_data"
        },
        {
          "data": {
            "application/vnd.jupyter.widget-view+json": {
              "model_id": "40d4fa50bbbc4ec6a7dc67b91bd0ca55",
              "version_major": 2,
              "version_minor": 0
            },
            "text/plain": [
              "Downloading:   0%|          | 0.00/850M [00:00<?, ?B/s]"
            ]
          },
          "metadata": {},
          "output_type": "display_data"
        }
      ],
      "source": [
        "# import\n",
        "from simplet5 import SimpleT5\n",
        "\n",
        "# instantiate\n",
        "model = SimpleT5()\n",
        "\n",
        "# load (supports t5, mt5, byT5 models)\n",
        "model.from_pretrained(\"t5\",\"t5-base\")\n"
      ]
    },
    {
      "cell_type": "markdown",
      "source": [
        "# Load Dataset"
      ],
      "metadata": {
        "id": "VeE8r8USnNjf"
      },
      "id": "VeE8r8USnNjf"
    },
    {
      "cell_type": "code",
      "execution_count": null,
      "id": "016dca50",
      "metadata": {
        "execution": {
          "iopub.execute_input": "2022-05-22T05:47:18.174045Z",
          "iopub.status.busy": "2022-05-22T05:47:18.173431Z",
          "iopub.status.idle": "2022-05-22T05:47:19.702561Z",
          "shell.execute_reply": "2022-05-22T05:47:19.701816Z"
        },
        "id": "016dca50",
        "papermill": {
          "duration": 1.564674,
          "end_time": "2022-05-22T05:47:19.704854",
          "exception": false,
          "start_time": "2022-05-22T05:47:18.140180",
          "status": "completed"
        },
        "tags": []
      },
      "outputs": [],
      "source": [
        "train_df=pd.read_csv(\"../input/creating-data/train.csv\")"
      ]
    },
    {
      "cell_type": "code",
      "execution_count": null,
      "id": "32153d49",
      "metadata": {
        "execution": {
          "iopub.execute_input": "2022-05-22T05:47:19.769899Z",
          "iopub.status.busy": "2022-05-22T05:47:19.769298Z",
          "iopub.status.idle": "2022-05-22T05:47:19.943000Z",
          "shell.execute_reply": "2022-05-22T05:47:19.942197Z"
        },
        "id": "32153d49",
        "papermill": {
          "duration": 0.208067,
          "end_time": "2022-05-22T05:47:19.945261",
          "exception": false,
          "start_time": "2022-05-22T05:47:19.737194",
          "status": "completed"
        },
        "tags": []
      },
      "outputs": [],
      "source": [
        "valid_df=pd.read_csv(\"../input/creating-data/eval.csv\")"
      ]
    },
    {
      "cell_type": "code",
      "execution_count": null,
      "id": "40a35d3f",
      "metadata": {
        "execution": {
          "iopub.execute_input": "2022-05-22T05:47:20.012274Z",
          "iopub.status.busy": "2022-05-22T05:47:20.012057Z",
          "iopub.status.idle": "2022-05-22T05:47:20.028954Z",
          "shell.execute_reply": "2022-05-22T05:47:20.028093Z"
        },
        "id": "40a35d3f",
        "outputId": "0d5b2868-c5de-42f7-f291-70a04e7ee4f0",
        "papermill": {
          "duration": 0.052733,
          "end_time": "2022-05-22T05:47:20.030842",
          "exception": false,
          "start_time": "2022-05-22T05:47:19.978109",
          "status": "completed"
        },
        "tags": []
      },
      "outputs": [
        {
          "data": {
            "text/html": [
              "<div>\n",
              "<style scoped>\n",
              "    .dataframe tbody tr th:only-of-type {\n",
              "        vertical-align: middle;\n",
              "    }\n",
              "\n",
              "    .dataframe tbody tr th {\n",
              "        vertical-align: top;\n",
              "    }\n",
              "\n",
              "    .dataframe thead th {\n",
              "        text-align: right;\n",
              "    }\n",
              "</style>\n",
              "<table border=\"1\" class=\"dataframe\">\n",
              "  <thead>\n",
              "    <tr style=\"text-align: right;\">\n",
              "      <th></th>\n",
              "      <th>source_text</th>\n",
              "      <th>target_text</th>\n",
              "    </tr>\n",
              "  </thead>\n",
              "  <tbody>\n",
              "    <tr>\n",
              "      <th>0</th>\n",
              "      <td>Architecturally, the school has a Catholic cha...</td>\n",
              "      <td>To whom did the Virgin Mary allegedly appear i...</td>\n",
              "    </tr>\n",
              "    <tr>\n",
              "      <th>1</th>\n",
              "      <td>Architecturally, the school has a Catholic cha...</td>\n",
              "      <td>What is in front of the Notre Dame Main Building?</td>\n",
              "    </tr>\n",
              "    <tr>\n",
              "      <th>2</th>\n",
              "      <td>Architecturally, the school has a Catholic cha...</td>\n",
              "      <td>The Basilica of the Sacred heart at Notre Dame...</td>\n",
              "    </tr>\n",
              "    <tr>\n",
              "      <th>3</th>\n",
              "      <td>Architecturally, the school has a Catholic cha...</td>\n",
              "      <td>What is the Grotto at Notre Dame?</td>\n",
              "    </tr>\n",
              "    <tr>\n",
              "      <th>4</th>\n",
              "      <td>Architecturally, the school has a Catholic cha...</td>\n",
              "      <td>What sits on top of the Main Building at Notre...</td>\n",
              "    </tr>\n",
              "  </tbody>\n",
              "</table>\n",
              "</div>"
            ],
            "text/plain": [
              "                                         source_text  \\\n",
              "0  Architecturally, the school has a Catholic cha...   \n",
              "1  Architecturally, the school has a Catholic cha...   \n",
              "2  Architecturally, the school has a Catholic cha...   \n",
              "3  Architecturally, the school has a Catholic cha...   \n",
              "4  Architecturally, the school has a Catholic cha...   \n",
              "\n",
              "                                         target_text  \n",
              "0  To whom did the Virgin Mary allegedly appear i...  \n",
              "1  What is in front of the Notre Dame Main Building?  \n",
              "2  The Basilica of the Sacred heart at Notre Dame...  \n",
              "3                  What is the Grotto at Notre Dame?  \n",
              "4  What sits on top of the Main Building at Notre...  "
            ]
          },
          "metadata": {},
          "output_type": "display_data"
        }
      ],
      "source": [
        "display(train_df.head())"
      ]
    },
    {
      "cell_type": "code",
      "execution_count": null,
      "id": "2c856de9",
      "metadata": {
        "execution": {
          "iopub.execute_input": "2022-05-22T05:47:20.097269Z",
          "iopub.status.busy": "2022-05-22T05:47:20.097069Z",
          "iopub.status.idle": "2022-05-22T05:47:20.104694Z",
          "shell.execute_reply": "2022-05-22T05:47:20.104001Z"
        },
        "id": "2c856de9",
        "outputId": "78b17638-85a6-4168-f6ea-2ef331bba5a7",
        "papermill": {
          "duration": 0.043385,
          "end_time": "2022-05-22T05:47:20.106542",
          "exception": false,
          "start_time": "2022-05-22T05:47:20.063157",
          "status": "completed"
        },
        "tags": []
      },
      "outputs": [
        {
          "data": {
            "text/html": [
              "<div>\n",
              "<style scoped>\n",
              "    .dataframe tbody tr th:only-of-type {\n",
              "        vertical-align: middle;\n",
              "    }\n",
              "\n",
              "    .dataframe tbody tr th {\n",
              "        vertical-align: top;\n",
              "    }\n",
              "\n",
              "    .dataframe thead th {\n",
              "        text-align: right;\n",
              "    }\n",
              "</style>\n",
              "<table border=\"1\" class=\"dataframe\">\n",
              "  <thead>\n",
              "    <tr style=\"text-align: right;\">\n",
              "      <th></th>\n",
              "      <th>source_text</th>\n",
              "      <th>target_text</th>\n",
              "    </tr>\n",
              "  </thead>\n",
              "  <tbody>\n",
              "    <tr>\n",
              "      <th>0</th>\n",
              "      <td>Super Bowl 50 was an American football game to...</td>\n",
              "      <td>Which NFL team represented the AFC at Super Bo...</td>\n",
              "    </tr>\n",
              "    <tr>\n",
              "      <th>1</th>\n",
              "      <td>Super Bowl 50 was an American football game to...</td>\n",
              "      <td>Which NFL team represented the NFC at Super Bo...</td>\n",
              "    </tr>\n",
              "    <tr>\n",
              "      <th>2</th>\n",
              "      <td>Super Bowl 50 was an American football game to...</td>\n",
              "      <td>Where did Super Bowl 50 take place?</td>\n",
              "    </tr>\n",
              "    <tr>\n",
              "      <th>3</th>\n",
              "      <td>Super Bowl 50 was an American football game to...</td>\n",
              "      <td>Which NFL team won Super Bowl 50?</td>\n",
              "    </tr>\n",
              "    <tr>\n",
              "      <th>4</th>\n",
              "      <td>Super Bowl 50 was an American football game to...</td>\n",
              "      <td>What color was used to emphasize the 50th anni...</td>\n",
              "    </tr>\n",
              "  </tbody>\n",
              "</table>\n",
              "</div>"
            ],
            "text/plain": [
              "                                         source_text  \\\n",
              "0  Super Bowl 50 was an American football game to...   \n",
              "1  Super Bowl 50 was an American football game to...   \n",
              "2  Super Bowl 50 was an American football game to...   \n",
              "3  Super Bowl 50 was an American football game to...   \n",
              "4  Super Bowl 50 was an American football game to...   \n",
              "\n",
              "                                         target_text  \n",
              "0  Which NFL team represented the AFC at Super Bo...  \n",
              "1  Which NFL team represented the NFC at Super Bo...  \n",
              "2                Where did Super Bowl 50 take place?  \n",
              "3                  Which NFL team won Super Bowl 50?  \n",
              "4  What color was used to emphasize the 50th anni...  "
            ]
          },
          "metadata": {},
          "output_type": "display_data"
        }
      ],
      "source": [
        "display(valid_df.head())"
      ]
    },
    {
      "cell_type": "code",
      "execution_count": null,
      "id": "57403407",
      "metadata": {
        "execution": {
          "iopub.execute_input": "2022-05-22T05:47:20.172971Z",
          "iopub.status.busy": "2022-05-22T05:47:20.172398Z",
          "iopub.status.idle": "2022-05-22T05:47:20.179101Z",
          "shell.execute_reply": "2022-05-22T05:47:20.178428Z"
        },
        "id": "57403407",
        "outputId": "0a806f1e-03a9-48a0-b024-4d22ddf5767b",
        "papermill": {
          "duration": 0.04197,
          "end_time": "2022-05-22T05:47:20.181062",
          "exception": false,
          "start_time": "2022-05-22T05:47:20.139092",
          "status": "completed"
        },
        "tags": []
      },
      "outputs": [
        {
          "data": {
            "text/plain": [
              "(87599, 2)"
            ]
          },
          "execution_count": 8,
          "metadata": {},
          "output_type": "execute_result"
        }
      ],
      "source": [
        "train_df.shape"
      ]
    },
    {
      "cell_type": "markdown",
      "source": [
        "# Training"
      ],
      "metadata": {
        "id": "Cb7HNZAEnUaq"
      },
      "id": "Cb7HNZAEnUaq"
    },
    {
      "cell_type": "code",
      "execution_count": null,
      "id": "9f75d867",
      "metadata": {
        "execution": {
          "iopub.execute_input": "2022-05-22T05:47:20.324017Z",
          "iopub.status.busy": "2022-05-22T05:47:20.323808Z",
          "iopub.status.idle": "2022-05-22T11:42:31.452947Z",
          "shell.execute_reply": "2022-05-22T11:42:31.452081Z"
        },
        "id": "9f75d867",
        "outputId": "ed9dc1c1-ed9f-4426-9bfe-65d92ccdbd6b",
        "papermill": {
          "duration": 21311.165847,
          "end_time": "2022-05-22T11:42:31.455265",
          "exception": false,
          "start_time": "2022-05-22T05:47:20.289418",
          "status": "completed"
        },
        "tags": [],
        "colab": {
          "referenced_widgets": [
            "d23cf6e625304a5eb214e20caec8017f",
            "22598ca7281644cca89cb54336f6b778",
            "0340728157414f36a6777af2cb3f6123",
            "6cbe0456c1d643aeafef5724eaadbb6c",
            "66b5f3b8c7a34fcfbdf06512542a431d",
            "73e96da3fd65454cbca255d2e5b6be37",
            "c5f7b33a1b3b483ca9e2d5d80109dfeb",
            "dd0d5bd5ee9043349939d0af9f8487ae"
          ]
        }
      },
      "outputs": [
        {
          "data": {
            "application/vnd.jupyter.widget-view+json": {
              "model_id": "d23cf6e625304a5eb214e20caec8017f",
              "version_major": 2,
              "version_minor": 0
            },
            "text/plain": [
              "Validation sanity check: 0it [00:00, ?it/s]"
            ]
          },
          "metadata": {},
          "output_type": "display_data"
        },
        {
          "data": {
            "application/vnd.jupyter.widget-view+json": {
              "model_id": "22598ca7281644cca89cb54336f6b778",
              "version_major": 2,
              "version_minor": 0
            },
            "text/plain": [
              "Training: 0it [00:00, ?it/s]"
            ]
          },
          "metadata": {},
          "output_type": "display_data"
        },
        {
          "data": {
            "application/vnd.jupyter.widget-view+json": {
              "model_id": "0340728157414f36a6777af2cb3f6123",
              "version_major": 2,
              "version_minor": 0
            },
            "text/plain": [
              "Validating: 0it [00:00, ?it/s]"
            ]
          },
          "metadata": {},
          "output_type": "display_data"
        },
        {
          "data": {
            "application/vnd.jupyter.widget-view+json": {
              "model_id": "6cbe0456c1d643aeafef5724eaadbb6c",
              "version_major": 2,
              "version_minor": 0
            },
            "text/plain": [
              "Validating: 0it [00:00, ?it/s]"
            ]
          },
          "metadata": {},
          "output_type": "display_data"
        },
        {
          "data": {
            "application/vnd.jupyter.widget-view+json": {
              "model_id": "66b5f3b8c7a34fcfbdf06512542a431d",
              "version_major": 2,
              "version_minor": 0
            },
            "text/plain": [
              "Validating: 0it [00:00, ?it/s]"
            ]
          },
          "metadata": {},
          "output_type": "display_data"
        },
        {
          "data": {
            "application/vnd.jupyter.widget-view+json": {
              "model_id": "73e96da3fd65454cbca255d2e5b6be37",
              "version_major": 2,
              "version_minor": 0
            },
            "text/plain": [
              "Validating: 0it [00:00, ?it/s]"
            ]
          },
          "metadata": {},
          "output_type": "display_data"
        },
        {
          "data": {
            "application/vnd.jupyter.widget-view+json": {
              "model_id": "c5f7b33a1b3b483ca9e2d5d80109dfeb",
              "version_major": 2,
              "version_minor": 0
            },
            "text/plain": [
              "Validating: 0it [00:00, ?it/s]"
            ]
          },
          "metadata": {},
          "output_type": "display_data"
        },
        {
          "data": {
            "application/vnd.jupyter.widget-view+json": {
              "model_id": "dd0d5bd5ee9043349939d0af9f8487ae",
              "version_major": 2,
              "version_minor": 0
            },
            "text/plain": [
              "Validating: 0it [00:00, ?it/s]"
            ]
          },
          "metadata": {},
          "output_type": "display_data"
        }
      ],
      "source": [
        "# train\n",
        "model.train(train_df=train_df, # pandas dataframe with 2 columns: source_text & target_text\n",
        "            eval_df=valid_df, # pandas dataframe with 2 columns: source_text & target_text\n",
        "            source_max_token_len = 512//4,\n",
        "            target_max_token_len = 128//4,\n",
        "            batch_size = 4,\n",
        "            max_epochs = 6,\n",
        "            use_gpu=True,\n",
        "            outputdir = \"outputs\",\n",
        "            early_stopping_patience_epochs = 0,\n",
        ")"
      ]
    },
    {
      "cell_type": "code",
      "execution_count": null,
      "id": "5416fe19",
      "metadata": {
        "papermill": {
          "duration": 0.037992,
          "end_time": "2022-05-22T11:42:31.530596",
          "exception": false,
          "start_time": "2022-05-22T11:42:31.492604",
          "status": "completed"
        },
        "tags": [],
        "id": "5416fe19"
      },
      "outputs": [],
      "source": [
        ""
      ]
    }
  ],
  "metadata": {
    "kernelspec": {
      "display_name": "Python 3",
      "language": "python",
      "name": "python3"
    },
    "language_info": {
      "codemirror_mode": {
        "name": "ipython",
        "version": 3
      },
      "file_extension": ".py",
      "mimetype": "text/x-python",
      "name": "python",
      "nbconvert_exporter": "python",
      "pygments_lexer": "ipython3",
      "version": "3.7.12"
    },
    "papermill": {
      "default_parameters": {},
      "duration": 21461.15687,
      "end_time": "2022-05-22T11:42:35.101838",
      "environment_variables": {},
      "exception": null,
      "input_path": "__notebook__.ipynb",
      "output_path": "__notebook__.ipynb",
      "parameters": {},
      "start_time": "2022-05-22T05:44:53.944968",
      "version": "2.3.4"
    },
    "widgets": {
      "application/vnd.jupyter.widget-state+json": {}
    },
    "colab": {
      "name": "training-t5-model-yet-again.ipynb",
      "provenance": []
    }
  },
  "nbformat": 4,
  "nbformat_minor": 5
}